{
 "cells": [
  {
   "cell_type": "code",
   "execution_count": 16,
   "metadata": {},
   "outputs": [
    {
     "name": "stdout",
     "output_type": "stream",
     "text": [
      "4\n",
      "Centered pentagonal number :  31.0\n"
     ]
    }
   ],
   "source": [
    "# q1 Ans\n",
    "def PentagonalNumber(num): \n",
    "    num = num - 1\n",
    "    number = ((5*(num**2)) + (5*num) + 2) / 2 \n",
    "    return number\n",
    "    \n",
    "# keep this function call here  \n",
    "print(\"Centered pentagonal number : \" , PentagonalNumber(int(input())))"
   ]
  },
  {
   "cell_type": "code",
   "execution_count": 19,
   "metadata": {},
   "outputs": [
    {
     "name": "stdout",
     "output_type": "stream",
     "text": [
      "banana\n",
      "0n0n0baca\n"
     ]
    }
   ],
   "source": [
    "#q2 Ans\n",
    "# Create an input field\n",
    "encrypt = input()\n",
    " \n",
    "# Create a dictionary to store keys and values\n",
    "dict = {\"a\": \"0\", \"e\": \"1\",\n",
    "        \"i\": \"2\", \"o\": \"2\",\n",
    "        \"u\": \"3\"}\n",
    " \n",
    "# Reverse the string\n",
    "num = encrypt[::-1]\n",
    " \n",
    "# Replace vowels using loops\n",
    "for i in dict:\n",
    "    num = num.replace(i, dict[i])\n",
    " \n",
    "# f- strings which improves readability\n",
    "print(f\"{num}aca\")"
   ]
  },
  {
   "cell_type": "code",
   "execution_count": 20,
   "metadata": {},
   "outputs": [],
   "source": [
    "#q3 Ans\n",
    "\n",
    "import datetime\n",
    "from datetime import datetime\n",
    "import calendar\n",
    "\n",
    "def has_friday_13(month, year):\n",
    "    date = f'{month} 13 {year}'.format()\n",
    "    spooky = datetime.strptime(date, '%m %d %Y').weekday()\n",
    "    return (calendar.day_name[spooky]) == \"Friday\""
   ]
  },
  {
   "cell_type": "code",
   "execution_count": 24,
   "metadata": {},
   "outputs": [
    {
     "name": "stdout",
     "output_type": "stream",
     "text": [
      "False\n"
     ]
    }
   ],
   "source": [
    "print(has_friday_13(1, 1985))"
   ]
  },
  {
   "cell_type": "code",
   "execution_count": 33,
   "metadata": {},
   "outputs": [
    {
     "data": {
      "text/plain": [
       "2"
      ]
     },
     "execution_count": 33,
     "metadata": {},
     "output_type": "execute_result"
    }
   ],
   "source": [
    "#q4 Ans\n",
    "import re\n",
    "lst = ['bad cookie', 'good cookie', 'bad cookie', 'good cookie', 'good cookie']\n",
    "pattern = \"(?<!good)bad \"\n",
    "len(re.findall(pattern, \", \".join(lst)))"
   ]
  },
  {
   "cell_type": "code",
   "execution_count": 34,
   "metadata": {},
   "outputs": [
    {
     "name": "stdout",
     "output_type": "stream",
     "text": [
      "cow - cows\n",
      "pig - pigs\n",
      "cow - cows\n",
      "cow - cows\n"
     ]
    }
   ],
   "source": [
    "#q5 Ans\n",
    "import re\n",
    "def pluralize(noun):\n",
    "    if re.search('[sxz]$', noun):\n",
    "         return re.sub('$', 'es', noun)\n",
    "    elif re.search('[^aeioudgkprt]h$', noun):\n",
    "        return re.sub('$', 'es', noun)\n",
    "    elif re.search('[aeiou]y$', noun):\n",
    "        return re.sub('y$', 'ies', noun)\n",
    "    else:\n",
    "        return noun + 's'\n",
    "List=[\"cow\", \"pig\", \"cow\", \"cow\"]\n",
    "for i in List:\n",
    "     print(i, '-', pluralize(i))"
   ]
  },
  {
   "cell_type": "code",
   "execution_count": null,
   "metadata": {},
   "outputs": [],
   "source": []
  }
 ],
 "metadata": {
  "kernelspec": {
   "display_name": "Python 3",
   "language": "python",
   "name": "python3"
  },
  "language_info": {
   "codemirror_mode": {
    "name": "ipython",
    "version": 3
   },
   "file_extension": ".py",
   "mimetype": "text/x-python",
   "name": "python",
   "nbconvert_exporter": "python",
   "pygments_lexer": "ipython3",
   "version": "3.8.5"
  }
 },
 "nbformat": 4,
 "nbformat_minor": 4
}
