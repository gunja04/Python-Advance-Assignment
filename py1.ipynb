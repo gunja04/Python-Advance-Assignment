{
 "cells": [
  {
   "cell_type": "markdown",
   "metadata": {},
   "source": [
    "Q1. What is the purpose of Python's OOP?\n",
    "Ans: In Python, object-oriented Programming (OOPs) is a programming paradigm that uses objects and classes in programming. It aims to implement real-world entities like inheritance, polymorphisms, encapsulation, etc. in the programming\n",
    "\n",
    "Q2. Where does an inheritance search look for an attribute?\n",
    "Ans: Inheritance happens when an object is qualified, and involves searching an attribute definition tree (one or more namespaces). Every time you use an expression of the form object.\n",
    "\n",
    "Q3. How do you distinguish between a class object and an instance object?\n",
    "Ans: Instance refers to the copy of the object at a particular time whereas object refers to the memory address of the class.\n",
    "\n",
    "Q4. What makes the first argument in a class’s method function special?\n",
    "Ans: The first argument of every class method, including init, is always a reference to the current instance of the class. By convention, this argument is always named self. In the init method, self refers to the newly created object; in other class methods, it refers to the instance whose method was called.\n",
    "\n",
    "Q5. What is the purpose of the __init__ method?\n",
    "Ans: The __init__ method lets the class initialize the object's attributes and serves no other purpose.\n",
    "\n",
    "Q6. What is the process for creating a class instance?\n",
    "Ans: To create instances of a class, we call the class using class name and pass in whatever arguments its __init__ method accepts.\n",
    "\n",
    "Q7. What is the process for creating a class?\n",
    "Ans: In Python, a class can be created by using the keyword class, followed by the class name. \n",
    "     eg: class abc:\n",
    "             pass\n",
    "\n",
    "Q8. How would you define the superclasses of a class?\n",
    "Ans: The class from which a class inherits is called the parent or superclass."
   ]
  }
 ],
 "metadata": {
  "kernelspec": {
   "display_name": "Python 3",
   "language": "python",
   "name": "python3"
  },
  "language_info": {
   "codemirror_mode": {
    "name": "ipython",
    "version": 3
   },
   "file_extension": ".py",
   "mimetype": "text/x-python",
   "name": "python",
   "nbconvert_exporter": "python",
   "pygments_lexer": "ipython3",
   "version": "3.8.5"
  }
 },
 "nbformat": 4,
 "nbformat_minor": 4
}
